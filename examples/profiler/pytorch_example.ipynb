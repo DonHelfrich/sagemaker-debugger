{
 "cells": [
  {
   "cell_type": "code",
   "execution_count": null,
   "metadata": {},
   "outputs": [],
   "source": [
    "from sagemaker.profiler import ProfilerConfig \n",
    "\n",
    "profiler_config = ProfilerConfig(\n",
    "    profiling_interval_millis=500,\n",
    "    profiling_parameters={\n",
    "        \"ProfilerEnabled\": str(True),\n",
    "        \"UsePyinstrument\": str(True),\n",
    "        \"DetailedProfilingConfig\": \"{\\\"StartStep\\\": 2, \\\"NumSteps\\\": 2}\"\n",
    "    }\n",
    ")"
   ]
  },
  {
   "cell_type": "code",
   "execution_count": null,
   "metadata": {},
   "outputs": [],
   "source": [
    "!pip show sagemaker"
   ]
  },
  {
   "cell_type": "code",
   "execution_count": null,
   "metadata": {},
   "outputs": [],
   "source": [
    "import boto3\n",
    "\n",
    "session = boto3.session.Session()\n",
    "region = session.region_name\n",
    "\n",
    "#image_name = f'385479125792.dkr.ecr.{region}.amazonaws.com/profiler-gpu:pytorch_0813'\n",
    "image_name = f'072677473360.dkr.ecr.us-east-1.amazonaws.com/smprofiler-pytorch-gpu:1.5.1_aws_dataloader'\n",
    "\n",
    "hyperparameters = {\"batch_size\":2048, \"gpu\":True, \"pin_memory\":True, \"workers\":4, \"epoch\":15, \"model\":\"resnext50_32x4d\"}\n",
    "hyperparameters = {\"batch_size\":2048, \"gpu\":True, \"pin_memory\":True, \"workers\":4, \"epoch\":15, \"model\":\"resnext101_32x8d\"}\n",
    "hyperparameters = {\"batch_size\":2048, \"gpu\":True, \"pin_memory\":True, \"workers\":0, \"epoch\":5, \"model\":\"resnext101_32x8d\"}\n",
    "hyperparameters = {\"batch_size\":2048, \"gpu\":True, \"pin_memory\":False, \"workers\":0, \"epoch\":5, \"model\":\"resnext101_32x8d\"}\n",
    "entry_point_script = 'pytorch_res50_cifar10_dataloader.py'\n",
    "base_job_name=\"pt-singleworker-no-pinmemoryresnext101\"\n",
    "instance_count = 1\n",
    "\n",
    "# Uncomment for horovod based multigpu training\n",
    "#hyperparameters = {\"script\":\"pt_res50_cifar10_horovod_dataloader.py\", \"model\":\"resnext101_32x8d\", \"batch_size\":2048, \"epoch\":5}\n",
    "#entry_point_script = 'horovod_test_launcher.py'\n",
    "#base_job_name = \"pt-horvod-multigpu-resnet101\"\n",
    "\n",
    "# Uncomment for distributed API based training\n",
    "#hyperparameters = {\"training_script\":\"pt_res50_cifar10_distributed.py\", \"nproc_per_node\":4, \"nnodes\":2}\n",
    "#entry_point_script = 'distributed_launch.py'\n",
    "#instance_count = 2\n",
    "#base_job_name = \"pt-distributed=multiinstance\"\n",
    "\n",
    "# Uncomment for running the training with custom dataset.\n",
    "#hyperparameters = {\"batch_size\":128, \"gpu\":True, \"pin_memory\":True, \"workers\":4, \"epoch\":1, \"data_folder\":\"/opt/ml/input/data/training\"}\n",
    "#base_job_name = 'pt-histopathologic'\n",
    "#entry_script = \"histopathologic_training.py\"\n",
    "\n",
    "print(f\"image being used is {image_name}\")"
   ]
  },
  {
   "cell_type": "code",
   "execution_count": null,
   "metadata": {},
   "outputs": [],
   "source": [
    "import sagemaker\n",
    "from sagemaker.pytorch import PyTorch\n",
    "\n",
    "estimator = PyTorch(\n",
    "    role=sagemaker.get_execution_role(),\n",
    "    image_name=image_name,\n",
    "    train_instance_count=instance_count,\n",
    "    train_instance_type='ml.p3.8xlarge',\n",
    "    source_dir='pytorch/scripts',\n",
    "    entry_point=entry_point_script,\n",
    "    framework_version='1.5.1',\n",
    "    hyperparameters=hyperparameters,\n",
    "    profiler_config=profiler_config,\n",
    "    base_job_name=base_job_name)"
   ]
  },
  {
   "cell_type": "code",
   "execution_count": null,
   "metadata": {},
   "outputs": [],
   "source": [
    "estimator.fit(wait=False)"
   ]
  },
  {
   "cell_type": "code",
   "execution_count": null,
   "metadata": {},
   "outputs": [],
   "source": []
  }
 ],
 "metadata": {
  "kernelspec": {
   "display_name": "Python 3",
   "language": "python",
   "name": "python3"
  },
  "language_info": {
   "codemirror_mode": {
    "name": "ipython",
    "version": 3
   },
   "file_extension": ".py",
   "mimetype": "text/x-python",
   "name": "python",
   "nbconvert_exporter": "python",
   "pygments_lexer": "ipython3",
   "version": "3.8.3"
  }
 },
 "nbformat": 4,
 "nbformat_minor": 4
}
