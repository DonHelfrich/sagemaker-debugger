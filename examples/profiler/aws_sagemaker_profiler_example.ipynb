{
 "cells": [
  {
   "cell_type": "markdown",
   "metadata": {},
   "source": [
    "# AWS SageMaker Profiler Example\n",
    "\n",
    "This notebook will walk you through creating a training job with the profiler feature enabled.\n",
    "\n",
    "# 1. Install Dependencies\n",
    "\n",
    "\n",
    "### SageMaker Python SDK and `smdebug`\n",
    "\n",
    "The first thing you will need to do is install the private beta versions of the SageMaker Python SDK and the `smdebug` library. This will enable you to call a private version of the API that allows you to create SageMaker training jobs with the profiler enabled."
   ]
  },
  {
   "cell_type": "code",
   "execution_count": null,
   "metadata": {},
   "outputs": [],
   "source": [
    "! pip install ../sdk/sagemaker-1.60.3.dev0.tar.gz -q\n",
    "! pip install ../sdk/smdebug-0.8.0b20200622-py3-none-any.whl\n",
    "\n",
    "# The following command will enable the SDK to use new profiler configs in the API\n",
    "! aws configure add-model --service-model file://../sdk/sagemaker-2017-07-24.normal.json --service-name sagemaker"
   ]
  },
  {
   "cell_type": "markdown",
   "metadata": {},
   "source": [
    "If you run this notebook in Jupyterlab and not Jupyter, you need to install the jupyterlab extensions \n",
    "`@jupyter-widgets/jupyterlab-manager` and `@bokeh/jupyter_bokeh`. We provide a [SageMaker Lifecycle configuration](lifecycle_config/on_start.sh) that automatically installs these extensions when your notebook instance is started. Check out [this blog](https://aws.amazon.com/blogs/machine-learning/customize-your-amazon-sagemaker-notebook-instances-with-lifecycle-configurations-and-the-option-to-disable-internet-access/) for how to create and attach a Lifecycle configuration to your notebook instance."
   ]
  },
  {
   "cell_type": "markdown",
   "metadata": {},
   "source": [
    "# 2. Create A Training Job With Profiling Enabled\n",
    "\n",
    "You will use the standard [SageMaker Estimator API for Tensorflow](https://sagemaker.readthedocs.io/en/stable/frameworks/tensorflow/sagemaker.tensorflow.html#tensorflow-estimator) to create training jobs. To create a training job with the profiler enabled, all you need to do is create a `ProfilerConfig` object and pass it into the `profiler_config` parameter of an `Estimator`.\n",
    "\n",
    "### Define an Estimator\n",
    "\n",
    "We define some hyperparameters such as number of epochs, batch size and enable data augmentation. You can increase batch size which leads to higher system utilization but may introduce a CPU bottlneck since data preprocessing and augmentation is very compute heavy. Larger batch size means more data has to be preprocessed more quickly. Alternatively, you can disable data_augmentation to see the impact on the system utilization. \n",
    "\n",
    "For demonstration purposes we choose a set of data augmentation techniques that will heavily increase CPU usage leading to GPU starvation."
   ]
  },
  {
   "cell_type": "code",
   "execution_count": null,
   "metadata": {},
   "outputs": [],
   "source": [
    "hyperparameters = {'epoch': 10, \n",
    "                   'batch_size': 64,\n",
    "                   'data_augmentation': True}"
   ]
  },
  {
   "cell_type": "markdown",
   "metadata": {},
   "source": [
    "### Set region where this notebook is running"
   ]
  },
  {
   "cell_type": "code",
   "execution_count": null,
   "metadata": {},
   "outputs": [],
   "source": [
    "import os\n",
    "region = os.environ['AWS_REGION'] # Set it to the region like us-east-1, us-east-2 if AWS_REGION is not set\n",
    "image_name = f'385479125792.dkr.ecr.{region}.amazonaws.com/profiler-gpu:latest'\n",
    "print(f\"image being used is {image_name}\")\n"
   ]
  },
  {
   "cell_type": "code",
   "execution_count": null,
   "metadata": {},
   "outputs": [],
   "source": [
    "import boto3\n",
    "import sagemaker\n",
    "from sagemaker.tensorflow import TensorFlow\n",
    "from sagemaker.profiler import ProfilerConfig \n",
    "\n",
    "estimator = TensorFlow(\n",
    "    role=sagemaker.get_execution_role(),\n",
    "    image_name=image_name,\n",
    "    train_instance_count=1,\n",
    "    train_instance_type='ml.p3.8xlarge',\n",
    "    entry_point='train.py',\n",
    "    source_dir='demo',\n",
    "    framework_version='2.2.0',\n",
    "    py_version='py37',\n",
    "    profiler_config=ProfilerConfig(profiling_interval_millis=500),\n",
    "    script_mode=True,\n",
    "    hyperparameters=hyperparameters\n",
    ")"
   ]
  },
  {
   "cell_type": "markdown",
   "metadata": {},
   "source": [
    "### Start training job"
   ]
  },
  {
   "cell_type": "code",
   "execution_count": null,
   "metadata": {},
   "outputs": [],
   "source": [
    "estimator.fit(wait=False)"
   ]
  },
  {
   "cell_type": "markdown",
   "metadata": {},
   "source": [
    "# 3.  Analyse profiling data\n",
    "\n",
    "Run notebook ../profiler/profiler_generic_dashboard.ipynb with training_job_name and region as printed below\n"
   ]
  },
  {
   "cell_type": "code",
   "execution_count": null,
   "metadata": {},
   "outputs": [],
   "source": [
    "training_job_name = estimator.latest_training_job.name\n",
    "print(f\"Training jobname:{training_job_name} and region:{region}\")\n",
    "print(\"Run notebook ../profiler/profiler_generic_dashboard.ipynb with parameters training_job_name:{training_job_name} and region:{region} \")"
   ]
  }
 ],
 "metadata": {
  "kernelspec": {
   "display_name": "Python 3",
   "language": "python",
   "name": "python3"
  },
  "language_info": {
   "codemirror_mode": {
    "name": "ipython",
    "version": 3
   },
   "file_extension": ".py",
   "mimetype": "text/x-python",
   "name": "python",
   "nbconvert_exporter": "python",
   "pygments_lexer": "ipython3",
   "version": "3.6.10"
  }
 },
 "nbformat": 4,
 "nbformat_minor": 2
}
