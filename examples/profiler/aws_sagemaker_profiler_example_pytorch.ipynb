{
 "cells": [
  {
   "cell_type": "markdown",
   "metadata": {},
   "source": [
    "# Amazon SageMaker Profiler Example\n",
    "\n",
    "This notebook will walk you through creating a training job with the profiler feature enabled.\n",
    "\n",
    "# 1. Install Dependencies\n",
    "\n",
    "\n",
    "### SageMaker Python SDK and `smdebug`\n",
    "\n",
    "The first thing you will need to do is install the private beta versions of the SageMaker Python SDK and the `smdebug` library. This will enable you to call a private version of the API that allows you to create SageMaker training jobs with the profiler enabled."
   ]
  },
  {
   "cell_type": "code",
   "execution_count": null,
   "metadata": {},
   "outputs": [],
   "source": [
    "! pip install ../sdk/sagemaker-1.60.3.dev0.tar.gz -q\n",
    "! pip install ../sdk/smdebug-0.9.2b20200810-py2.py3-none-any.whl\n",
    "\n",
    "# The following command will enable the SDK to use new profiler configs in the API\n",
    "! aws configure add-model --service-model file://../sdk/sagemaker-2017-07-24.normal.json --service-name sagemaker"
   ]
  },
  {
   "cell_type": "markdown",
   "metadata": {},
   "source": [
    "If you run this notebook in Jupyterlab and not Jupyter, you need to install the jupyterlab extensions \n",
    "`@jupyter-widgets/jupyterlab-manager` and `@bokeh/jupyter_bokeh`. We provide a [SageMaker Lifecycle configuration](lifecycle_config/on_start.sh) that automatically installs these extensions when your notebook instance is started. Check out [this blog](https://aws.amazon.com/blogs/machine-learning/customize-your-amazon-sagemaker-notebook-instances-with-lifecycle-configurations-and-the-option-to-disable-internet-access/) for how to create and attach a Lifecycle configuration to your notebook instance."
   ]
  },
  {
   "cell_type": "markdown",
   "metadata": {},
   "source": [
    "# 2. Create A Training Job With Profiling Enabled\n",
    "\n",
    "You will use the standard [SageMaker Estimator API for PyTorch](https://sagemaker.readthedocs.io/en/stable/frameworks/pytorch/sagemaker.pytorch.html) to create training jobs. To create a training job with the profiler enabled, all you need to do is create a `ProfilerConfig` object and pass it into the `profiler_config` parameter of an `Estimator`.\n"
   ]
  },
  {
   "cell_type": "markdown",
   "metadata": {},
   "source": [
    "Set profiler configuration"
   ]
  },
  {
   "cell_type": "code",
   "execution_count": null,
   "metadata": {},
   "outputs": [],
   "source": [
    "from sagemaker.profiler import ProfilerConfig \n",
    "\n",
    "profiler_config = ProfilerConfig(\n",
    "    profiling_interval_millis=500,\n",
    "    profiling_parameters={\n",
    "        \"ProfilerEnabled\": str(True),\n",
    "        \"UsePyinstrument\": str(True),\n",
    "        \"DetailedProfilingConfig\": \"{\\\"StartStep\\\": 2, \\\"NumSteps\\\": 2}\"\n",
    "    }\n",
    ")"
   ]
  },
  {
   "cell_type": "markdown",
   "metadata": {},
   "source": [
    "### Set region where this notebook is running"
   ]
  },
  {
   "cell_type": "code",
   "execution_count": null,
   "metadata": {},
   "outputs": [],
   "source": [
    "import boto3\n",
    "\n",
    "session = boto3.session.Session()\n",
    "region = session.region_name\n",
    "\n",
    "image_name = f'385479125792.dkr.ecr.{region}.amazonaws.com/profiler-gpu:pt_tag1'\n",
    "print(f\"image being used is {image_name}\")"
   ]
  },
  {
   "cell_type": "markdown",
   "metadata": {},
   "source": [
    "### Define PyTorch estimator"
   ]
  },
  {
   "cell_type": "code",
   "execution_count": null,
   "metadata": {},
   "outputs": [],
   "source": [
    "import sagemaker\n",
    "from sagemaker.pytorch import PyTorch\n",
    "\n",
    "estimator = PyTorch(\n",
    "    role=sagemaker.get_execution_role(),\n",
    "    image_name=image_name,\n",
    "    train_instance_count=1,\n",
    "    train_instance_type='ml.p3.8xlarge',\n",
    "    source_dir='demo',\n",
    "    entry_point='train_pt.py',\n",
    "    framework_version='1.5.0',\n",
    "    profiler_config=profiler_config)"
   ]
  },
  {
   "cell_type": "markdown",
   "metadata": {},
   "source": [
    "### Start training job"
   ]
  },
  {
   "cell_type": "code",
   "execution_count": null,
   "metadata": {},
   "outputs": [],
   "source": [
    "estimator.fit(wait=False)"
   ]
  },
  {
   "cell_type": "markdown",
   "metadata": {},
   "source": [
    "# 3.  Analyse profiling data\n",
    "\n",
    "Run notebook ../profiler/profiler_generic_dashboard.ipynb with training_job_name and region as printed below\n"
   ]
  },
  {
   "cell_type": "code",
   "execution_count": null,
   "metadata": {},
   "outputs": [],
   "source": [
    "import boto3\n",
    "\n",
    "session = boto3.session.Session()\n",
    "region = session.region_name\n",
    "\n",
    "training_job_name = estimator.latest_training_job.name\n",
    "print(f\"Training jobname:{training_job_name} and region:{region}\")\n",
    "print(f\"Run notebook ../profiler/profiler_generic_dashboard.ipynb with parameters training_job_name:{training_job_name} and region:{region} \")"
   ]
  }
 ],
 "metadata": {
  "kernelspec": {
   "display_name": "Python 3",
   "language": "python",
   "name": "python3"
  },
  "language_info": {
   "codemirror_mode": {
    "name": "ipython",
    "version": 3
   },
   "file_extension": ".py",
   "mimetype": "text/x-python",
   "name": "python",
   "nbconvert_exporter": "python",
   "pygments_lexer": "ipython3",
   "version": "3.7.7"
  }
 },
 "nbformat": 4,
 "nbformat_minor": 2
}
