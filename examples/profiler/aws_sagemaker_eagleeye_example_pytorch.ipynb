{
 "cells": [
  {
   "cell_type": "markdown",
   "metadata": {},
   "source": [
    "# Amazon SageMaker EagleEye PyTorch Training Job Example\n",
    "\n",
    "This notebook will walk you through creating a PyTorch training job with the SageMaker EagleEye feature enabled.\n",
    "\n",
    "# 1. Install Dependencies\n",
    "\n",
    "\n",
    "### SageMaker Python SDK\n",
    "\n",
    "Install the private beta version of the SageMaker Python SDK library. This enables you to call a private version of the SageMaker EagleEye API that allows you to create SageMaker training jobs with the profiler enabled."
   ]
  },
  {
   "cell_type": "code",
   "execution_count": null,
   "metadata": {},
   "outputs": [],
   "source": [
    "! pip install ../sdk/sagemaker-1.60.3.dev0.tar.gz -q\n",
    "\n",
    "# The following command will enable the SDK to use new profiler configs in the API\n",
    "! aws configure add-model --service-model file://../sdk/sagemaker-2017-07-24.normal.json --service-name sagemaker"
   ]
  },
  {
   "cell_type": "markdown",
   "metadata": {},
   "source": [
    "If you run this notebook in Jupyterlab and not Jupyter, you need to install the jupyterlab extensions \n",
    "`@jupyter-widgets/jupyterlab-manager` and `@bokeh/jupyter_bokeh`. We provide a [SageMaker Lifecycle configuration](lifecycle_config/on_start.sh) that automatically installs these extensions when your notebook instance is started. Check out [this blog](https://aws.amazon.com/blogs/machine-learning/customize-your-amazon-sagemaker-notebook-instances-with-lifecycle-configurations-and-the-option-to-disable-internet-access/) for how to create and attach a Lifecycle configuration to your notebook instance."
   ]
  },
  {
   "cell_type": "markdown",
   "metadata": {},
   "source": [
    "# 2. Create a Training Job with Profiling Enabled\n",
    "\n",
    "You will use the standard [SageMaker Estimator API for PyTorch](https://sagemaker.readthedocs.io/en/stable/frameworks/pytorch/sagemaker.pytorch.html) to create training jobs. To enable profiling, create a `ProfilerConfig` object and pass it to the `profiler_config` parameter of the `PyTorch` estimator."
   ]
  },
  {
   "cell_type": "markdown",
   "metadata": {},
   "source": [
    "### Set a profiler configuration"
   ]
  },
  {
   "cell_type": "code",
   "execution_count": null,
   "metadata": {},
   "outputs": [],
   "source": [
    "from sagemaker.profiler import ProfilerConfig \n",
    "\n",
    "profiler_config = ProfilerConfig(\n",
    "    profiling_interval_millis=500,\n",
    "    profiling_parameters={\n",
    "        \"ProfilerEnabled\": str(True),\n",
    "        \"GeneralMetricsConfig\": \"{\\\"StartStep\\\": \\\"2\\\", \\\"NumSteps\\\": \\\"2\\\"}\"\n",
    "   }\n",
    ")"
   ]
  },
  {
   "cell_type": "markdown",
   "metadata": {},
   "source": [
    "### Set region where this notebook is running"
   ]
  },
  {
   "cell_type": "code",
   "execution_count": null,
   "metadata": {},
   "outputs": [],
   "source": [
    "import boto3\n",
    "\n",
    "session = boto3.session.Session()\n",
    "region = session.region_name"
   ]
  },
  {
   "cell_type": "markdown",
   "metadata": {},
   "source": [
    "### Set parameters for the PyTorch estimator"
   ]
  },
  {
   "cell_type": "code",
   "execution_count": null,
   "metadata": {},
   "outputs": [],
   "source": [
    "# EagleEye beta version base image for PyTorch\n",
    "image_name = f'385479125792.dkr.ecr.{region}.amazonaws.com/profiler-gpu:pt_1.5.1_dataloader'\n",
    "\n",
    "# Default training job\n",
    "hyperparameters = {\"batch_size\":512, \"epochs\":10}\n",
    "entry_point_script = 'train_pt.py'\n",
    "base_job_name=\"pt-train-pt\"\n",
    "instance_count = 1\n",
    "\n",
    "\n",
    "# Trainingjob with configurable dataloader parameters, such as num_workers and pin memory\n",
    "\"\"\"\n",
    "hyperparameters = {\"batch_size\":2048, \"gpu\":True, \"pin_memory\":True, \"workers\":4, \"epoch\":5}\n",
    "hyperparameters = {\"batch_size\":2048, \"gpu\":True, \"pin_memory\":True, \"workers\":0, \"epoch\":5, \"model\":\"resnext101_32x8d\"}\n",
    "hyperparameters = {\"batch_size\":2048, \"gpu\":True, \"pin_memory\":False, \"workers\":0, \"epoch\":5, \"model\":\"resnext101_32x8d\"}\n",
    "entry_point_script = 'pytorch_res50_cifar10_dataloader.py'\n",
    "base_job_name=\"pt-dataloader-singlegpu\"\n",
    "\"\"\"\n",
    "\n",
    "\n",
    "# Uncomment for horovod based single node multigpu training\n",
    "\"\"\"\n",
    "hyperparameters = {\"script\":\"pt_res50_cifar10_horovod_dataloader.py\", \"model\":\"resnext101_32x8d\", \"batch_size\":2048, \"epoch\":5}\n",
    "entry_point_script = 'horovod_test_launcher.py'\n",
    "base_job_name = \"pt-horvod-multigpu-resnet101\"\n",
    "\"\"\"\n",
    "\n",
    "# Uncomment for distributed API based training single node multi gpu\n",
    "\"\"\"\n",
    "hyperparameters = {\"training_script\":\"pt_res50_cifar10_distributed.py\", \"nproc_per_node\":4, \"nnodes\":1}\n",
    "entry_point_script = 'distributed_launch.py'\n",
    "instance_count = 1\n",
    "base_job_name = \"pt-distributed-singlenode\"\n",
    "\"\"\"\n",
    "\n",
    "\n",
    "# Uncomment for distributed API based training multi node multi gpu\n",
    "\"\"\"\n",
    "hyperparameters = {\"training_script\":\"pt_res50_cifar10_distributed.py\", \"nproc_per_node\":4, \"nnodes\":2}\n",
    "entry_point_script = 'distributed_launch.py'\n",
    "instance_count = 2\n",
    "base_job_name = \"pt-distributed-multinode\"\n",
    "\"\"\"\n",
    "\n",
    "print(f\"image being used is {image_name}\")"
   ]
  },
  {
   "cell_type": "markdown",
   "metadata": {},
   "source": [
    "### Define PyTorch estimator"
   ]
  },
  {
   "cell_type": "code",
   "execution_count": null,
   "metadata": {},
   "outputs": [],
   "source": [
    "import sagemaker\n",
    "from sagemaker.pytorch import PyTorch\n",
    "\n",
    "estimator = PyTorch(\n",
    "    role=sagemaker.get_execution_role(),\n",
    "    image_name=image_name,\n",
    "    train_instance_count=instance_count,\n",
    "    train_instance_type='ml.p3.8xlarge',\n",
    "    source_dir='demo',\n",
    "    entry_point=entry_point_script,\n",
    "    framework_version='1.5.0',\n",
    "    hyperparameters=hyperparameters,\n",
    "    base_job_name=base_job_name,    \n",
    "    profiler_config=profiler_config)"
   ]
  },
  {
   "cell_type": "markdown",
   "metadata": {},
   "source": [
    "### Start training job\n",
    "\n",
    "The following `estimator.fit()` with `wait=False` argument initiates the training job in the background. You can proceed to run the dashboard or analysis notebooks."
   ]
  },
  {
   "cell_type": "code",
   "execution_count": null,
   "metadata": {},
   "outputs": [],
   "source": [
    "estimator.fit(wait=False)"
   ]
  },
  {
   "cell_type": "markdown",
   "metadata": {},
   "source": [
    "# 3. Retrieve the Training Job Name to Analyze Profiling Data\n",
    "\n",
    "Copy outputs of the following cell (`training_job_name` and `region`) to run the analysis notebooks `eagleeye_generic_dashboard.ipynb`, `analyze_performance_bottlenecks.ipynb`, and `eagleeye_interactive_analysis.ipynb`."
   ]
  },
  {
   "cell_type": "code",
   "execution_count": null,
   "metadata": {},
   "outputs": [],
   "source": [
    "import boto3\n",
    "\n",
    "session = boto3.session.Session()\n",
    "region = session.region_name\n",
    "\n",
    "training_job_name = estimator.latest_training_job.name\n",
    "print(f\"Training jobname: {training_job_name}\")\n",
    "print(f\"Region: {region}\")"
   ]
  },
  {
   "cell_type": "markdown",
   "metadata": {},
   "source": [
    "# 4. Run SageMaker EagleEye Rules"
   ]
  },
  {
   "cell_type": "markdown",
   "metadata": {},
   "source": [
    "The following cell runs a profiler rule processing container on a separte instance in parallel. EagleEye will fetch the system and framework metrics and analyze the data for potential performance issues. \n",
    "\n",
    "You can run the rule container at any time while the training job is in progress or after the job has finished."
   ]
  },
  {
   "cell_type": "code",
   "execution_count": null,
   "metadata": {},
   "outputs": [],
   "source": [
    "from sagemaker.processing import Processor, ProcessingInput, ProcessingOutput\n",
    "\n",
    "profiler_rule_image=f'385479125792.dkr.ecr.{region}.amazonaws.com/sagemaker-profiler-rules-container:latest'\n",
    "\n",
    "processor = Processor(\n",
    "            role=sagemaker.get_execution_role(),\n",
    "            image_uri=profiler_rule_image,\n",
    "            instance_count=1,\n",
    "            instance_type='ml.r5.4xlarge',\n",
    "            env={'S3_PATH': estimator.latest_job_profiler_artifacts_path()}\n",
    "        )\n",
    "processor.run([], \n",
    "              [ProcessingOutput(output_name='profiler-analysis', \n",
    "                                source='/opt/ml/processing/outputs', \n",
    "                                destination=estimator.latest_job_profiler_artifacts_path())],\n",
    "              wait=False, logs=False\n",
    "             ) \n",
    "              "
   ]
  },
  {
   "cell_type": "markdown",
   "metadata": {},
   "source": [
    "Once the processing job finished you will find an html report `plot-viz-rule.html` and a notebook `profiler-report.ipynb` in your S3 bucket. Each rule also creates a json-file that is used to generate the final report and you can find those files in your S3 bucket under `profiler-reports`.  "
   ]
  },
  {
   "cell_type": "code",
   "execution_count": null,
   "metadata": {},
   "outputs": [],
   "source": [
    "print(f\"You will find the profiler report in {estimator.latest_job_profiler_artifacts_path()}/plot_viz_rule.html after the training has finished\")"
   ]
  },
  {
   "cell_type": "code",
   "execution_count": null,
   "metadata": {},
   "outputs": [],
   "source": []
  }
 ],
 "metadata": {
  "kernelspec": {
   "display_name": "conda_pytorch_p36",
   "language": "python",
   "name": "conda_pytorch_p36"
  },
  "language_info": {
   "codemirror_mode": {
    "name": "ipython",
    "version": 3
   },
   "file_extension": ".py",
   "mimetype": "text/x-python",
   "name": "python",
   "nbconvert_exporter": "python",
   "pygments_lexer": "ipython3",
   "version": "3.6.10"
  }
 },
 "nbformat": 4,
 "nbformat_minor": 4
}
